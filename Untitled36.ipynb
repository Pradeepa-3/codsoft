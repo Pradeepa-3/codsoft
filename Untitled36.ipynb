{
  "cells": [
    {
      "cell_type": "markdown",
      "metadata": {
        "id": "view-in-github",
        "colab_type": "text"
      },
      "source": [
        "<a href=\"https://colab.research.google.com/github/Pradeepa-3/codsoft/blob/main/Untitled36.ipynb\" target=\"_parent\"><img src=\"https://colab.research.google.com/assets/colab-badge.svg\" alt=\"Open In Colab\"/></a>"
      ]
    },
    {
      "cell_type": "code",
      "execution_count": null,
      "metadata": {
        "colab": {
          "background_save": true,
          "base_uri": "https://localhost:8080/"
        },
        "id": "L7Kxs1lMRoLy",
        "outputId": "61eead48-131a-4c46-b1e6-c17ac5c947ec"
      },
      "outputs": [
        {
          "name": "stdout",
          "output_type": "stream",
          "text": [
            "Chatbot: Hello! How can I assist you today?\n",
            "Chatbot: I'm sorry, I don't understand that. Can you ask something else?\n",
            "Chatbot: I'm sorry, I don't understand that. Can you ask something else?\n",
            "Chatbot: Goodbye! Have a great day!\n"
          ]
        }
      ],
      "source": [
        "def simple_chatbot(user_input):\n",
        "    user_input = user_input.lower()\n",
        "\n",
        "\n",
        "    greetings = ['hi', 'hello', 'hey', 'greetings']\n",
        "    goodbye = ['bye', 'goodbye', 'see you', 'take care']\n",
        "    about_bot = ['who are you', 'what are you', 'tell me about yourself']\n",
        "    default_response = \"I'm sorry, I don't understand that. Can you ask something else?\"\n",
        "\n",
        "\n",
        "    if user_input in greetings:\n",
        "        return \"Hello! How can I help you today?\"\n",
        "\n",
        "    elif user_input in goodbye:\n",
        "        return \"Goodbye! Have a great day!\"\n",
        "\n",
        "    elif user_input in about_bot:\n",
        "        return \"I'm a simple chatbot created to demonstrate basic conversation flow.\"\n",
        "\n",
        "    else:\n",
        "        return default_response\n",
        "\n",
        "\n",
        "print(\"Chatbot: Hello! How can I assist you today?\")\n",
        "while True:\n",
        "    user_message = input(\"You: \")\n",
        "    if user_message.lower() == 'exit':\n",
        "        print(\"Chatbot: Goodbye!\")\n",
        "        break\n",
        "    else:\n",
        "        bot_response = simple_chatbot(user_message)\n",
        "        print(\"Chatbot:\", bot_response)"
      ]
    }
  ],
  "metadata": {
    "colab": {
      "provenance": [],
      "authorship_tag": "ABX9TyOJwltnzU5Q6yVJcnfePO7Z",
      "include_colab_link": true
    },
    "kernelspec": {
      "display_name": "Python 3",
      "name": "python3"
    },
    "language_info": {
      "name": "python"
    }
  },
  "nbformat": 4,
  "nbformat_minor": 0
}